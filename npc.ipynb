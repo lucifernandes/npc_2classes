{
  "nbformat": 4,
  "nbformat_minor": 0,
  "metadata": {
    "colab": {
      "name": "npc.ipynb",
      "provenance": [],
      "include_colab_link": true
    },
    "kernelspec": {
      "name": "python3",
      "display_name": "Python 3"
    }
  },
  "cells": [
    {
      "cell_type": "markdown",
      "metadata": {
        "id": "view-in-github",
        "colab_type": "text"
      },
      "source": [
        "<a href=\"https://colab.research.google.com/github/lucifernandes/npc_2classes/blob/master/npc.ipynb\" target=\"_parent\"><img src=\"https://colab.research.google.com/assets/colab-badge.svg\" alt=\"Open In Colab\"/></a>"
      ]
    },
    {
      "cell_type": "markdown",
      "metadata": {
        "id": "9cbGG_DAP3BB",
        "colab_type": "text"
      },
      "source": [
        "Nearest Prototype Classifier"
      ]
    },
    {
      "cell_type": "markdown",
      "metadata": {
        "id": "_x_pbkg5GQLY",
        "colab_type": "text"
      },
      "source": [
        "#Pré-processamento dos dados"
      ]
    },
    {
      "cell_type": "markdown",
      "metadata": {
        "id": "bi2CSCWpPOAS",
        "colab_type": "text"
      },
      "source": [
        "Algumas considerações:\n",
        "\n",
        "*   Deve ser feito o upload dos arquivos \"c1.csv\" e \"c2.csv\";\n",
        "*   Tais estão disponíveis anexados ao email, será aberto uma caixa de seleção durante a execução do algoritmo para importação direta da máquina pessoal."
      ]
    },
    {
      "cell_type": "code",
      "metadata": {
        "id": "IoINHLPmJx9q",
        "colab_type": "code",
        "colab": {
          "resources": {
            "http://localhost:8080/nbextensions/google.colab/files.js": {
              "data": "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",
              "ok": true,
              "headers": [
                [
                  "content-type",
                  "application/javascript"
                ]
              ],
              "status": 200,
              "status_text": ""
            }
          },
          "base_uri": "https://localhost:8080/",
          "height": 123
        },
        "outputId": "45cba2f8-63f0-44ab-f620-8f25a00085cc"
      },
      "source": [
        "from google.colab import files\n",
        "print(\" \")\n",
        "print(\"Adicionar arquivo 'c1.csv'\")\n",
        "print(\" \")\n",
        "\n",
        "uploaded1 = files.upload()"
      ],
      "execution_count": null,
      "outputs": [
        {
          "output_type": "stream",
          "text": [
            " \n",
            "Adicionar arquivo 'c1.csv'\n",
            " \n"
          ],
          "name": "stdout"
        },
        {
          "output_type": "display_data",
          "data": {
            "text/html": [
              "\n",
              "     <input type=\"file\" id=\"files-900ba4ea-7c31-4894-b4a3-bf07fe1e5364\" name=\"files[]\" multiple disabled\n",
              "        style=\"border:none\" />\n",
              "     <output id=\"result-900ba4ea-7c31-4894-b4a3-bf07fe1e5364\">\n",
              "      Upload widget is only available when the cell has been executed in the\n",
              "      current browser session. Please rerun this cell to enable.\n",
              "      </output>\n",
              "      <script src=\"/nbextensions/google.colab/files.js\"></script> "
            ],
            "text/plain": [
              "<IPython.core.display.HTML object>"
            ]
          },
          "metadata": {
            "tags": []
          }
        },
        {
          "output_type": "stream",
          "text": [
            "Saving c1.csv to c1.csv\n"
          ],
          "name": "stdout"
        }
      ]
    },
    {
      "cell_type": "code",
      "metadata": {
        "id": "oix3yLHNKWfU",
        "colab_type": "code",
        "colab": {
          "resources": {
            "http://localhost:8080/nbextensions/google.colab/files.js": {
              "data": "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",
              "ok": true,
              "headers": [
                [
                  "content-type",
                  "application/javascript"
                ]
              ],
              "status": 200,
              "status_text": ""
            }
          },
          "base_uri": "https://localhost:8080/",
          "height": 123
        },
        "outputId": "a53403e6-e7f6-479a-c064-95841c6afa7d"
      },
      "source": [
        "print(\" \")\n",
        "print(\"Adicionar arquivo 'c2.csv'\")\n",
        "print(\" \")\n",
        "\n",
        "uploaded2 = files.upload()"
      ],
      "execution_count": null,
      "outputs": [
        {
          "output_type": "stream",
          "text": [
            " \n",
            "Adicionar arquivo 'c2.csv'\n",
            " \n"
          ],
          "name": "stdout"
        },
        {
          "output_type": "display_data",
          "data": {
            "text/html": [
              "\n",
              "     <input type=\"file\" id=\"files-7001c168-7257-49a0-b651-676864a16701\" name=\"files[]\" multiple disabled\n",
              "        style=\"border:none\" />\n",
              "     <output id=\"result-7001c168-7257-49a0-b651-676864a16701\">\n",
              "      Upload widget is only available when the cell has been executed in the\n",
              "      current browser session. Please rerun this cell to enable.\n",
              "      </output>\n",
              "      <script src=\"/nbextensions/google.colab/files.js\"></script> "
            ],
            "text/plain": [
              "<IPython.core.display.HTML object>"
            ]
          },
          "metadata": {
            "tags": []
          }
        },
        {
          "output_type": "stream",
          "text": [
            "Saving c2.csv to c2.csv\n"
          ],
          "name": "stdout"
        }
      ]
    },
    {
      "cell_type": "code",
      "metadata": {
        "id": "mqs6jH5iZC6e",
        "colab_type": "code",
        "colab": {
          "base_uri": "https://localhost:8080/",
          "height": 252
        },
        "outputId": "44fd90f3-c01e-4004-f803-1af7aaa57eba"
      },
      "source": [
        "import io\n",
        "import scipy.io\n",
        "import pandas as pd\n",
        "\n",
        "#Dados\n",
        "classe1 = pd.read_csv(io.BytesIO(uploaded1['c1.csv']))\n",
        "classe2 = pd.read_csv(io.BytesIO(uploaded2['c2.csv']))\n",
        "\n",
        "#Adaptação da base de dados para seleção de atributos\n",
        "classe1 = classe1.T   #Cálculo da Transposta\n",
        "classe2 = classe2.T   #Cálculo da Transposta\n",
        "\n",
        "classe1['classe'] = [1 for _ in range(0,classe1.shape[0])]  #Criação das labels de identificação da classe\n",
        "classe2['classe'] = [2 for _ in range(0,classe2.shape[0])]  #Criação das labels de identificação da classe\n",
        "\n",
        "base0 = pd.concat([classe1, classe2])     #Concatenação dos sinais da Classe 1 com os sinais da Classe 2\n",
        "base0.reset_index(drop=True,inplace=True) #Resetando os índices\n",
        "\n",
        "#Escolha, cálculo e organização dos atributos\n",
        "#Atributos escolhidos: Média, Mediana, Mínimo, Máximo, Assimetria (skewness)\n",
        "base = pd.DataFrame({})\n",
        "base['media'] = base0.iloc[:,:-1].mean(axis=1)      #Média\n",
        "base['mediana'] = base0.iloc[:,:-1].median(axis=1)  #Mediana\n",
        "base['min'] = base0.iloc[:,:-1].min(axis=1)         #Mínimo\n",
        "base['max'] = base0.iloc[:,:-1].max(axis=1)         #Máximo\n",
        "base['skewness'] = base0.iloc[:,:-1].skew(axis=1)   #Assimetria (skewness)\n",
        "base['classe'] = base0['classe']                    #Classe\n",
        "print(base)"
      ],
      "execution_count": null,
      "outputs": [
        {
          "output_type": "stream",
          "text": [
            "       media   mediana      min      max  skewness  classe\n",
            "0   0.054684  0.029617 -0.80910  1.03900  0.709787       1\n",
            "1   0.219842  0.120820 -3.59340  4.26290  0.523685       1\n",
            "2   0.006183  0.003270 -0.10553  0.11974  0.597523       1\n",
            "3   0.175902  0.092761 -2.64990  3.23870  0.709099       1\n",
            "4   0.250167  0.148060 -3.85920  4.69690  0.693431       1\n",
            "..       ...       ...      ...      ...       ...     ...\n",
            "95 -0.094959  0.035363 -4.06890  4.00340 -0.159706       2\n",
            "96 -0.070931  0.062170 -2.69590  2.34710 -0.134490       2\n",
            "97 -0.102025  0.108630 -2.91490  3.16010 -0.120160       2\n",
            "98 -0.110233  0.078324 -4.31320  4.05330 -0.163268       2\n",
            "99 -0.037180  0.043907 -2.17090  2.06130 -0.144612       2\n",
            "\n",
            "[100 rows x 6 columns]\n"
          ],
          "name": "stdout"
        }
      ]
    },
    {
      "cell_type": "code",
      "metadata": {
        "id": "knlBxNgWBdJr",
        "colab_type": "code",
        "colab": {
          "base_uri": "https://localhost:8080/",
          "height": 252
        },
        "outputId": "1be659c7-01f4-446d-f8f3-678034ef3250"
      },
      "source": [
        "import scipy.io\n",
        "import pandas as pd\n",
        "\n",
        "#Dados\n",
        "classe1 = pd.read_csv('/content/c1.csv')\n",
        "classe2 = pd.read_csv('/content/c2.csv')\n",
        "\n",
        "#Adaptação da base de dados para seleção de atributos\n",
        "classe1 = classe1.T   #Cálculo da Transposta\n",
        "classe2 = classe2.T   #Cálculo da Transposta\n",
        "\n",
        "classe1['classe'] = [1 for _ in range(0,classe1.shape[0])]  #Criação das labels de identificação da classe\n",
        "classe2['classe'] = [2 for _ in range(0,classe2.shape[0])]  #Criação das labels de identificação da classe\n",
        "\n",
        "base0 = pd.concat([classe1, classe2])     #Concatenação dos sinais da Classe 1 com os sinais da Classe 2\n",
        "base0.reset_index(drop=True,inplace=True) #Resetando os índices\n",
        "\n",
        "#Escolha, cálculo e organização dos atributos\n",
        "#Atributos escolhidos: Média, Mediana, Mínimo, Máximo, Assimetria (skewness)\n",
        "base = pd.DataFrame({})\n",
        "base['media'] = base0.iloc[:,:-1].mean(axis=1)      #Média\n",
        "base['mediana'] = base0.iloc[:,:-1].median(axis=1)  #Mediana\n",
        "base['min'] = base0.iloc[:,:-1].min(axis=1)         #Mínimo\n",
        "base['max'] = base0.iloc[:,:-1].max(axis=1)         #Máximo\n",
        "base['skewness'] = base0.iloc[:,:-1].skew(axis=1)   #Assimetria (skewness)\n",
        "base['classe'] = base0['classe']                    #Classe\n",
        "print(base)"
      ],
      "execution_count": null,
      "outputs": [
        {
          "output_type": "stream",
          "text": [
            "       media   mediana      min      max  skewness  classe\n",
            "0   0.054684  0.029617 -0.80910  1.03900  0.709787       1\n",
            "1   0.219842  0.120820 -3.59340  4.26290  0.523685       1\n",
            "2   0.006183  0.003270 -0.10553  0.11974  0.597523       1\n",
            "3   0.175902  0.092761 -2.64990  3.23870  0.709099       1\n",
            "4   0.250167  0.148060 -3.85920  4.69690  0.693431       1\n",
            "..       ...       ...      ...      ...       ...     ...\n",
            "95 -0.094959  0.035363 -4.06890  4.00340 -0.159706       2\n",
            "96 -0.070931  0.062170 -2.69590  2.34710 -0.134490       2\n",
            "97 -0.102025  0.108630 -2.91490  3.16010 -0.120160       2\n",
            "98 -0.110233  0.078324 -4.31320  4.05330 -0.163268       2\n",
            "99 -0.037180  0.043907 -2.17090  2.06130 -0.144612       2\n",
            "\n",
            "[100 rows x 6 columns]\n"
          ],
          "name": "stdout"
        }
      ]
    },
    {
      "cell_type": "markdown",
      "metadata": {
        "id": "W3f0-R1bGbgP",
        "colab_type": "text"
      },
      "source": [
        "##Padronização - Escore Z"
      ]
    },
    {
      "cell_type": "code",
      "metadata": {
        "id": "_XoKvet9B8Tg",
        "colab_type": "code",
        "colab": {
          "base_uri": "https://localhost:8080/",
          "height": 252
        },
        "outputId": "21c69d01-f7d8-4925-e0d1-2e3d860aaaef"
      },
      "source": [
        "#Cálculo da médias em cada atributo\n",
        "media1 = base['media'].mean(axis=0)\n",
        "media2 = base['mediana'].mean(axis=0)\n",
        "media3 = base['min'].mean(axis=0)\n",
        "media4 = base['max'].mean(axis=0)\n",
        "media5 = base['skewness'].mean(axis=0)\n",
        "\n",
        "#Cálculo do Desvio Padrão em cada atributo\n",
        "desvio1 = base['media'].std(axis=0)\n",
        "desvio2 = base['mediana'].std(axis=0)\n",
        "desvio3 = base['min'].std(axis=0)\n",
        "desvio4 = base['max'].std(axis=0)\n",
        "desvio5 = base['skewness'].std(axis=0)\n",
        "\n",
        "#Cálculo do Escore Z\n",
        "for i in range(100):\n",
        "  base.iloc[i-1,0] = (base.iloc[i-1,0] - media1)/desvio1   \n",
        "  base.iloc[i-1,1] = (base.iloc[i-1,1] - media2)/desvio2\n",
        "  base.iloc[i-1,2] = (base.iloc[i-1,2] - media3)/desvio3\n",
        "  base.iloc[i-1,3] = (base.iloc[i-1,3] - media4)/desvio4\n",
        "  base.iloc[i-1,4] = (base.iloc[i-1,4] - media5)/desvio5\n",
        "print(base)"
      ],
      "execution_count": null,
      "outputs": [
        {
          "output_type": "stream",
          "text": [
            "       media   mediana       min       max  skewness  classe\n",
            "0   0.219014  0.178333  1.050657 -0.910197  0.904123       1\n",
            "1   0.749536  0.457612 -1.038888  1.536746  0.523934       1\n",
            "2   0.063220  0.097653  1.578668 -1.607917  0.674777       1\n",
            "3   0.608391  0.371690 -0.330815  0.759377  0.902717       1\n",
            "4   0.846945  0.541025 -1.238364  1.866153  0.870710       1\n",
            "..       ...       ...       ...       ...       ...     ...\n",
            "95 -0.261669  0.195928 -1.395738  1.339785 -0.872176       2\n",
            "96 -0.184488  0.278016 -0.365337  0.082652 -0.820663       2\n",
            "97 -0.284367  0.420284 -0.529691  0.699720 -0.791388       2\n",
            "98 -0.310733  0.327482 -1.579079  1.377660 -0.879453       2\n",
            "99 -0.076072  0.222091  0.028662 -0.134271 -0.841340       2\n",
            "\n",
            "[100 rows x 6 columns]\n"
          ],
          "name": "stdout"
        }
      ]
    },
    {
      "cell_type": "markdown",
      "metadata": {
        "id": "cJyfRaqvGka7",
        "colab_type": "text"
      },
      "source": [
        "#Classificador NPC"
      ]
    },
    {
      "cell_type": "markdown",
      "metadata": {
        "id": "PPfDzLvkGp-5",
        "colab_type": "text"
      },
      "source": [
        "##Organização das amostras para treinamento e validação"
      ]
    },
    {
      "cell_type": "code",
      "metadata": {
        "id": "3d0pPaiACYuT",
        "colab_type": "code",
        "colab": {}
      },
      "source": [
        "#Cálculo da Centroide\n",
        "import numpy as np\n",
        "def dist(x,y):    #Função do cálculo\n",
        "  distancia = x-y\n",
        "  for i in range(len(x)):  #Para valores negativos\n",
        "    if (distancia[i] < 0):\n",
        "      distancia[i] = distancia[i]*(-1)\n",
        "  a=distancia.mean()   #Média das distâncias           \n",
        "  return a\n",
        "\n",
        "#Colocando em ordem aleatória os índices das amostras\n",
        "from random import sample\n",
        "r0 = np.arange(100)       \n",
        "r = sample(list(r0),100)\n",
        "\n",
        "#parten = Índices utilizados no ciclo n do 10-fold\n",
        "\n",
        "parte1 = np.array(r[0:10])                    #Correspondem aos 10 primeiros números gerados aleatoriamente\n",
        "para_remover = [i for i in range(0,10)]\n",
        "nparte1 = np.delete(r, para_remover, axis=0)  #Números restantes do passo anterior\n",
        "parte2 = r[10:20]                             #Correspondem aos 10 próximos números gerados aleatoriamente e assim por diante\n",
        "para_remover = [i for i in range(10,20)]\n",
        "nparte2 = np.delete(r, para_remover, axis=0)  #Números restantes do passo anterior e assim por diante\n",
        "parte3 = r[20:30]\n",
        "para_remover = [i for i in range(20,30)]\n",
        "nparte3 = np.delete(r, para_remover, axis=0)\n",
        "parte4 = r[30:40]\n",
        "para_remover = [i for i in range(30,40)]\n",
        "nparte4 = np.delete(r, para_remover, axis=0)\n",
        "parte5 = r[40:50]\n",
        "para_remover = [i for i in range(40,50)]\n",
        "nparte5 = np.delete(r, para_remover, axis=0)\n",
        "parte6 = r[50:60]\n",
        "para_remover = [i for i in range(50,60)]\n",
        "nparte6 = np.delete(r, para_remover, axis=0)\n",
        "parte7 = r[60:70]\n",
        "para_remover = [i for i in range(60,70)]\n",
        "nparte7 = np.delete(r, para_remover, axis=0)\n",
        "parte8 = r[70:80]\n",
        "para_remover = [i for i in range(70,80)]\n",
        "nparte8 = np.delete(r, para_remover, axis=0)\n",
        "parte9 = r[80:90]\n",
        "para_remover = [i for i in range(80,90)]\n",
        "nparte9 = np.delete(r, para_remover, axis=0)\n",
        "parte10 = r[90:100]\n",
        "para_remover = [i for i in range(90,100)]\n",
        "nparte10 = np.delete(r, para_remover, axis=0)"
      ],
      "execution_count": null,
      "outputs": []
    },
    {
      "cell_type": "markdown",
      "metadata": {
        "id": "mTQY_gUdGyUl",
        "colab_type": "text"
      },
      "source": [
        "##Validação 10-fold"
      ]
    },
    {
      "cell_type": "code",
      "metadata": {
        "id": "nl1dCUPwCaXE",
        "colab_type": "code",
        "colab": {}
      },
      "source": [
        "# Será considerada uma validação 10-fold, onde será dividido em 10 partes,\n",
        "# a cada escolha de cada uma das 10 partes como teste, chamaremos de ciclo, logo o algoritmo terá 10 ciclos\n",
        "\n",
        "# Matrizes que armazenarão valores de modo que cada COLUNA corresponda ao vetor das\n",
        "# Centroides entre uma amostra de validação teste e o restante de treino\n",
        "# Por exemplo:\n",
        "#                                    Amostras de teste\n",
        "#              --------------------------------------------------------------------\n",
        "#                           amostra0  amostra1  ... amostra8  amostra9\n",
        "#              |  amostra11   d(L,c)    d(L,c)        d(L,c)    d(L,c)    \n",
        "#    Amostras  |  amostra12   d(L,c)    d(L,c)        d(L,c)    d(L,c)   \n",
        "#       de     |  ...\n",
        "#    treino    |  amostra18   d(L,c)    d(L,c)        d(L,c)    d(L,c)   \n",
        "#              |  amostra99   d(L,c)    d(L,c)        d(L,c)    d(L,c)   \n",
        "#\n",
        "#                                                                            d(l,c) = Centroide entre a amostra da COLUNA c e a amostra da LINHA L\n",
        "d1 = np.zeros((90,10)) #Inicialização das matrizes\n",
        "d2 = np.zeros((90,10))\n",
        "d3 = np.zeros((90,10))\n",
        "d4 = np.zeros((90,10))\n",
        "d5 = np.zeros((90,10))\n",
        "d6 = np.zeros((90,10))\n",
        "d7 = np.zeros((90,10))\n",
        "d8 = np.zeros((90,10))\n",
        "d9 = np.zeros((90,10))\n",
        "d10 = np.zeros((90,10))\n",
        "\n",
        "#Ciclo 1\n",
        "for k in range(10):\n",
        "  x = base.iloc[parte1[k],0:5].values\n",
        "  for i in range(90):\n",
        "    y = base.iloc[nparte1[i],0:5].values\n",
        "    d1[i,k] = dist(x,y)                    #Distâncias do Ciclo 1\n",
        "d1 = np.c_[d1,nparte1]                      #Adição da coluna correspondente aos índices\n",
        "#Ciclo 2\n",
        "for k in range(10):\n",
        "  x = base.iloc[parte2[k],0:5].values\n",
        "  for i in range(90):\n",
        "    y = base.iloc[nparte2[i],0:5].values\n",
        "    d2[i,k] = dist(x,y)                     #Distâncias do Ciclo 2\n",
        "d2 = np.c_[d2,nparte2]                      #Adição da coluna correspondente aos índices\n",
        "#Ciclo 3\n",
        "for k in range(10):\n",
        "  x = base.iloc[parte3[k],0:5].values\n",
        "  for i in range(90):\n",
        "    y = base.iloc[nparte3[i],0:5].values\n",
        "    d3[i,k] = dist(x,y)                     #Distâncias do Ciclo 3\n",
        "d3 = np.c_[d3,nparte3]                      #Adição da coluna correspondente aos índices\n",
        "#Ciclo 4\n",
        "for k in range(10):\n",
        "  x = base.iloc[parte4[k],0:5].values\n",
        "  for i in range(90):\n",
        "    y = base.iloc[nparte4[i],0:5].values\n",
        "    d4[i,k] = dist(x,y)                     #Distâncias do Ciclo 4\n",
        "d4 = np.c_[d4,nparte4]                      #Adição da coluna correspondente aos índices\n",
        "#Ciclo 5\n",
        "for k in range(10):\n",
        "  x = base.iloc[parte5[k],0:5].values\n",
        "  for i in range(90):\n",
        "    y = base.iloc[nparte5[i],0:5].values\n",
        "    d5[i,k] = dist(x,y)                     #Distâncias do Ciclo 5\n",
        "d5 = np.c_[d5,nparte5]                      #Adição da coluna correspondente aos índices\n",
        "#Ciclo 6\n",
        "for k in range(10):\n",
        "  x = base.iloc[parte6[k],0:5].values\n",
        "  for i in range(90):\n",
        "    y = base.iloc[nparte6[i],0:5].values\n",
        "    d6[i,k] = dist(x,y)                     #Distâncias do Ciclo 6\n",
        "d6 = np.c_[d6,nparte6]                      #Adição da coluna correspondente aos índices\n",
        "#Ciclo 7\n",
        "for k in range(10):\n",
        "  x = base.iloc[parte7[k],0:5].values\n",
        "  for i in range(90):\n",
        "    y = base.iloc[nparte7[i],0:5].values\n",
        "    d7[i,k] = dist(x,y)                     #Distâncias do Ciclo 7\n",
        "d7 = np.c_[d7,nparte7]                      #Adição da coluna correspondente aos índices\n",
        "#Ciclo 8\n",
        "for k in range(10):\n",
        "  x = base.iloc[parte8[k-1],0:5].values\n",
        "  for i in range(90):\n",
        "    y = base.iloc[nparte8[i],0:5].values\n",
        "    d8[i,k] = dist(x,y)                     #Distâncias do Ciclo 8\n",
        "d8 = np.c_[d8,nparte8]                      #Adição da coluna correspondente aos índices\n",
        "#Ciclo 9\n",
        "for k in range(10):\n",
        "  x = base.iloc[parte9[k],0:5].values\n",
        "  for i in range(90):\n",
        "    y = base.iloc[nparte9[i],0:5].values\n",
        "    d9[i,k] = dist(x,y)                     #Distâncias do Ciclo 9\n",
        "d9 = np.c_[d9,nparte9]                      #Adição da coluna correspondente aos índices\n",
        "#Ciclo 10\n",
        "for k in range(10):\n",
        "  x = base.iloc[parte10[k],0:5].values\n",
        "  for i in range(90):\n",
        "    y = base.iloc[nparte10[i],0:5].values\n",
        "    d10[i,k] = dist(x,y)                     #Distâncias do Ciclo 10\n",
        "d10 = np.c_[d10,nparte10]                        #Adição da coluna correspondente aos índices"
      ],
      "execution_count": null,
      "outputs": []
    },
    {
      "cell_type": "markdown",
      "metadata": {
        "id": "qL9a8zT5HZLj",
        "colab_type": "text"
      },
      "source": [
        "##Classificador"
      ]
    },
    {
      "cell_type": "code",
      "metadata": {
        "id": "RWsgCS1YDoJG",
        "colab_type": "code",
        "colab": {
          "base_uri": "https://localhost:8080/",
          "height": 269
        },
        "outputId": "273d4941-04bc-44b6-901d-696a08ca302f"
      },
      "source": [
        "base = np.asarray(base)\n",
        "total = 0\n",
        "target = np.zeros((90,10))\n",
        "#Ciclo 1\n",
        "count = 0\n",
        "for i in range(10):\n",
        "  for j in range(90):\n",
        "    if (d1[j,i]==min(d1[:,i])):\n",
        "      indice = int(d1[j,10])    #Indice da menor distancia\n",
        "      saida = base[indice,5]    #Saida prevista\n",
        "      target = base[parte1[i],5] #Saida real\n",
        "      if (saida == target):\n",
        "        count = count+1\n",
        "ac = (count/10)*100\n",
        "total = total + ac\n",
        "print(\"-------------------------\")\n",
        "print(\"          Acurácia\")\n",
        "print(\"-------------------------\")\n",
        "print(\"Ciclo 1 = %0.f%%\" %ac)\n",
        "#Ciclo 2\n",
        "target = np.zeros((90,10))\n",
        "count = 0\n",
        "for i in range(10):\n",
        "  for j in range(90):\n",
        "    if (d2[j,i]==min(d2[:,i])):\n",
        "      indice = int(d2[j,10])    #Indice da menor distancia\n",
        "      saida = base[indice,5]    #Saida prevista\n",
        "      target = base[parte2[i],5] #Saida real\n",
        "      if (saida == target):\n",
        "        count = count+1\n",
        "ac = (count/10)*100\n",
        "total = total + ac\n",
        "print(\"Ciclo 2 = %0.f%%\" %ac)\n",
        "#Ciclo 3\n",
        "target = np.zeros((90,10))\n",
        "count = 0\n",
        "for i in range(10):\n",
        "  for j in range(90):\n",
        "    if (d3[j,i]==min(d3[:,i])):\n",
        "      indice = int(d3[j,10])    #Indice da menor distancia\n",
        "      saida = base[indice,5]    #Saida prevista\n",
        "      target = base[parte3[i],5] #Saida real\n",
        "      if (saida == target):\n",
        "        count = count+1\n",
        "ac = (count/10)*100\n",
        "total = total + ac\n",
        "print(\"Ciclo 3 = %0.f%%\" %ac)\n",
        "#Ciclo 4\n",
        "target = np.zeros((90,10))\n",
        "count = 0\n",
        "for i in range(10):\n",
        "  for j in range(90):\n",
        "    if (d4[j,i]==min(d4[:,i])):\n",
        "      indice = int(d4[j,10])    #Indice da menor distancia\n",
        "      saida = base[indice,5]    #Saida prevista\n",
        "      target = base[parte4[i],5] #Saida real\n",
        "      if (saida == target):\n",
        "        count = count+1\n",
        "ac = (count/10)*100\n",
        "total = total + ac\n",
        "print(\"Ciclo 4 = %0.f%%\" %ac)\n",
        "#Ciclo 5\n",
        "target = np.zeros((90,10))\n",
        "count = 0\n",
        "for i in range(10):\n",
        "  for j in range(90):\n",
        "    if (d5[j,i]==min(d5[:,i])):\n",
        "      indice = int(d5[j,10])    #Indice da menor distancia\n",
        "      saida = base[indice,5]    #Saida prevista\n",
        "      target = base[parte5[i],5] #Saida real\n",
        "      if (saida == target):\n",
        "        count = count+1\n",
        "ac = (count/10)*100\n",
        "total = total + ac\n",
        "print(\"Ciclo 5 = %0.f%%\" %ac)\n",
        "#Ciclo 6\n",
        "target = np.zeros((90,10))\n",
        "count = 0\n",
        "for i in range(10):\n",
        "  for j in range(90):\n",
        "    if (d6[j,i]==min(d6[:,i])):\n",
        "      indice = int(d6[j,10])    #Indice da menor distancia\n",
        "      saida = base[indice,5]    #Saida prevista\n",
        "      target = base[parte6[i],5] #Saida real\n",
        "      if (saida == target):\n",
        "        count = count+1\n",
        "ac = (count/10)*100\n",
        "total = total + ac\n",
        "print(\"Ciclo 6 = %0.f%%\" %ac)\n",
        "#Ciclo 7\n",
        "target = np.zeros((90,10))\n",
        "count = 0\n",
        "for i in range(10):\n",
        "  for j in range(90):\n",
        "    if (d7[j,i]==min(d7[:,i])):\n",
        "      indice = int(d7[j,10])    #Indice da menor distancia\n",
        "      saida = base[indice,5]    #Saida prevista\n",
        "      target = base[parte7[i],5] #Saida real\n",
        "      if (saida == target):\n",
        "        count = count+1\n",
        "ac = (count/10)*100\n",
        "total = total + ac\n",
        "print(\"Ciclo 7 = %0.f%%\" %ac)\n",
        "#Ciclo 8\n",
        "target = np.zeros((90,10))\n",
        "count = 0\n",
        "for i in range(10):\n",
        "  for j in range(90):\n",
        "    if (d8[j,i]==min(d8[:,i])):\n",
        "      indice = int(d8[j,10])    #Indice da menor distancia\n",
        "      saida = base[indice,5]    #Saida prevista\n",
        "      target = base[parte8[i],5] #Saida real\n",
        "      if (saida == target):\n",
        "        count = count+1\n",
        "ac = (count/10)*100\n",
        "total = total + ac\n",
        "print(\"Ciclo 8 = %0.f%%\" %ac)\n",
        "#Ciclo 9\n",
        "target = np.zeros((90,10))\n",
        "count = 0\n",
        "for i in range(10):\n",
        "  for j in range(90):\n",
        "    if (d9[j,i]==min(d9[:,i])):\n",
        "      indice = int(d9[j,10])    #Indice da menor distancia\n",
        "      saida = base[indice,5]    #Saida prevista\n",
        "      target = base[parte9[i],5] #Saida real\n",
        "      if (saida == target):\n",
        "        count = count+1\n",
        "ac = (count/10)*100\n",
        "total = total + ac\n",
        "print(\"Ciclo 9 = %0.f%%\" %ac)\n",
        "#Ciclo 10\n",
        "target = np.zeros((90,10))\n",
        "count = 0\n",
        "for i in range(10):\n",
        "  for j in range(90):\n",
        "    if (d10[j,i]==min(d10[:,i])):\n",
        "      indice = int(d10[j,10])    #Indice da menor distancia\n",
        "      saida = base[indice,5]    #Saida prevista\n",
        "      target = base[parte10[i],5] #Saida real\n",
        "      if (saida == target):\n",
        "        count = count+1\n",
        "ac = (count/10)*100\n",
        "total = total + ac\n",
        "print(\"Ciclo 10 = %0.f%%\" %ac)\n",
        "print(\"-------------------------\")\n",
        "print(\"Acurácia Média: %0.f%%\" %(total/10))\n",
        "total=0"
      ],
      "execution_count": null,
      "outputs": [
        {
          "output_type": "stream",
          "text": [
            "-------------------------\n",
            "          Acurácia\n",
            "-------------------------\n",
            "Ciclo 1 = 100%\n",
            "Ciclo 2 = 100%\n",
            "Ciclo 3 = 100%\n",
            "Ciclo 4 = 100%\n",
            "Ciclo 5 = 100%\n",
            "Ciclo 6 = 100%\n",
            "Ciclo 7 = 100%\n",
            "Ciclo 8 = 40%\n",
            "Ciclo 9 = 100%\n",
            "Ciclo 10 = 100%\n",
            "-------------------------\n",
            "Acurácia Média: 94%\n"
          ],
          "name": "stdout"
        }
      ]
    }
  ]
}